{
 "cells": [
  {
   "cell_type": "markdown",
   "id": "65a2da0a",
   "metadata": {},
   "source": [
    "Peer-graded Assignment"
   ]
  },
  {
   "cell_type": "markdown",
   "id": "791edabc",
   "metadata": {},
   "source": [
    "# Final Project: Exploring Data Science Tools and Techniques\n",
    "\n",
    "Welcome to my final project on data science tools and techniques! In this notebook, we will delve into the fascinating world of data science, where we harness the power of programming languages, libraries, and tools to extract insights from data.\n",
    "\n",
    "Throughout this project, we will explore various aspects of data science, including programming languages commonly used, essential libraries, and practical examples of data manipulation and calculations."
   ]
  },
  {
   "cell_type": "markdown",
   "id": "0a53a8e1",
   "metadata": {},
   "source": [
    "# Languages for Data Science\n",
    "\n",
    "When it comes to the field of data science, the choice of programming language is crucial. Here is a list of programming languages commonly used in data science, each with its unique strengths and applications:\n",
    "\n",
    "1. Python\n",
    "2. R\n",
    "3. Julia\n",
    "4. SQL (Structured Query Language)\n",
    "5. Java\n",
    "6. Scala\n",
    "7. MATLAB\n",
    "8. SAS (Statistical Analysis System)\n",
    "9. Ruby\n",
    "10. Perl\n",
    "\n",
    "These languages serve as the foundation for data scientists to analyze, manipulate, and visualize data, making them essential tools in the data science toolbox."
   ]
  },
  {
   "cell_type": "markdown",
   "id": "68cc3142",
   "metadata": {},
   "source": [
    "# Libraries for Data Science\n",
    "\n",
    "In addition to programming languages, data scientists rely on a wide range of libraries to streamline their work and access specialized tools and functions. Here are some essential libraries for data science:\n",
    "\n",
    "1. NumPy\n",
    "2. pandas\n",
    "3. matplotlib\n",
    "4. seaborn\n",
    "5. scikit-learn\n",
    "6. TensorFlow\n",
    "7. Keras\n",
    "8. PyTorch\n",
    "9. StatsModels\n",
    "10. NLTK (Natural Language Toolkit)\n",
    "11. spaCy\n",
    "12. OpenCV\n",
    "13. BeautifulSoup\n",
    "14. NetworkX\n",
    "15. Plotly\n",
    "16. Bokeh\n",
    "17. D3.js (Data-Driven Documents)\n",
    "18. gensim\n",
    "19. xgboost\n",
    "20. LightGBM\n",
    "21. Shapely\n",
    "22. GeoPandas\n",
    "23. Folium\n",
    "24. Dash\n",
    "25. Streamlit\n",
    "\n",
    "These libraries offer a wealth of functionality, from data manipulation and visualization to machine learning and natural language processing, making them indispensable resources for data scientists.\n"
   ]
  },
  {
   "cell_type": "markdown",
   "id": "02a19dc0",
   "metadata": {},
   "source": [
    "# Data Science Tools\n",
    "\n",
    "Below is a table summarizing some of the essential tools commonly used in data science:\n",
    "\n",
    "| Tool Name         | Description                                       |\n",
    "| ----------------- | ------------------------------------------------- |\n",
    "| Jupyter Notebook  | Interactive environment for data analysis         |\n",
    "| RStudio           | Integrated development environment for R          |\n",
    "| Visual Studio Code| Popular code editor with data science extensions  |\n",
    "| Anaconda          | Python distribution for data science             |\n",
    "| Tableau           | Data visualization and analytics platform         |\n",
    "| Power BI          | Business intelligence and data visualization tool |\n",
    "| Git               | Version control system for code collaboration    |\n",
    "| GitHub            | Web-based platform for hosting Git repositories  |\n",
    "| Docker            | Containerization platform for reproducibility    |\n",
    "| Apache Spark      | Distributed data processing framework             |\n",
    "| Hadoop            | Distributed storage and processing framework     |\n",
    "\n",
    "These tools play a crucial role in various stages of the data science workflow, from data exploration to modeling and deployment.\n"
   ]
  },
  {
   "cell_type": "markdown",
   "id": "cdfd2fc5",
   "metadata": {},
   "source": [
    "# Introduction to Arithmetic Expressions\n",
    "\n",
    "Arithmetic expressions are fundamental to mathematical calculations and data manipulation. In this section, we'll explore various arithmetic operations and their application in data science.\n"
   ]
  },
  {
   "cell_type": "code",
   "execution_count": 2,
   "id": "9522f416",
   "metadata": {},
   "outputs": [
    {
     "data": {
      "text/plain": [
       "(50, 15)"
      ]
     },
     "execution_count": 2,
     "metadata": {},
     "output_type": "execute_result"
    }
   ],
   "source": [
    "# Multiply and Add Numbers\n",
    "num1 = 5\n",
    "num2 = 10\n",
    "\n",
    "# Multiply\n",
    "result_multiply = num1 * num2\n",
    "\n",
    "# Add\n",
    "result_add = num1 + num2\n",
    "\n",
    "result_multiply, result_add\n"
   ]
  },
  {
   "cell_type": "code",
   "execution_count": 4,
   "id": "1152ffb2",
   "metadata": {},
   "outputs": [
    {
     "data": {
      "text/plain": [
       "2.0"
      ]
     },
     "execution_count": 4,
     "metadata": {},
     "output_type": "execute_result"
    }
   ],
   "source": [
    "# Convert Minutes to Hours\n",
    "minutes = 120  \n",
    "# Conversion\n",
    "hours = minutes / 60\n",
    "\n",
    "hours\n"
   ]
  },
  {
   "cell_type": "markdown",
   "id": "24188b15",
   "metadata": {},
   "source": [
    "# Objectives\n",
    "\n",
    "In this project, we aim to achieve the following objectives:\n",
    "\n",
    "1. Explore and understand the significance of programming languages in data science.\n",
    "2. Identify and recognize key libraries and tools used by data scientists.\n",
    "3. Demonstrate proficiency in arithmetic expressions and their application in data manipulation.\n",
    "4. Perform basic mathematical operations, such as multiplication and addition, using code.\n",
    "5. Implement a practical example of converting minutes to hours programmatically.\n",
    "6. Provide an informative overview of essential data science concepts and tools.\n",
    "7. Share the project and code through GitHub to showcase version control skills.\n",
    "8. Capture a screenshot of the first page of the notebook for documentation purposes."
   ]
  },
  {
   "cell_type": "markdown",
   "id": "941e0b84",
   "metadata": {},
   "source": [
    "# Author\n",
    "Cristine Joy Hallig"
   ]
  },
  {
   "cell_type": "code",
   "execution_count": null,
   "id": "62001a69",
   "metadata": {},
   "outputs": [],
   "source": []
  }
 ],
 "metadata": {
  "kernelspec": {
   "display_name": "Python 3 (ipykernel)",
   "language": "python",
   "name": "python3"
  },
  "language_info": {
   "codemirror_mode": {
    "name": "ipython",
    "version": 3
   },
   "file_extension": ".py",
   "mimetype": "text/x-python",
   "name": "python",
   "nbconvert_exporter": "python",
   "pygments_lexer": "ipython3",
   "version": "3.11.4"
  }
 },
 "nbformat": 4,
 "nbformat_minor": 5
}
